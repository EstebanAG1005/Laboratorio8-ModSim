{
 "cells": [
  {
   "cell_type": "code",
   "execution_count": 53,
   "metadata": {},
   "outputs": [],
   "source": [
    "# !pip install simpy"
   ]
  },
  {
   "cell_type": "code",
   "execution_count": 54,
   "metadata": {},
   "outputs": [],
   "source": [
    "import simpy\n",
    "import random"
   ]
  },
  {
   "cell_type": "code",
   "execution_count": 55,
   "metadata": {},
   "outputs": [],
   "source": [
    "# Tasa de solicitudes por segundo\n",
    "LAMBDA = 2400 / 60  # Convertimos las solicitudes por minuto a solicitudes por segundo\n",
    "\n",
    "# Duración de la simulación en segundos (1 hora)\n",
    "SIMULATION_TIME = 3600  \n",
    "\n",
    "# Variables para estadísticas para Proveedor 1 y Proveedor 2\n",
    "total_requests_1 = total_requests_2 = 0\n",
    "total_time_in_queue_1 = total_time_in_queue_2 = 0\n",
    "total_time_of_service_1 = total_time_of_service_2 = 0"
   ]
  },
  {
   "cell_type": "code",
   "execution_count": 56,
   "metadata": {},
   "outputs": [],
   "source": [
    "def request_generator(env, mu, server, provider):\n",
    "    global total_requests_1, total_requests_2\n",
    "    while True:\n",
    "        yield env.timeout(random.expovariate(LAMBDA))\n",
    "        if provider == 1:\n",
    "            total_requests_1 += 1\n",
    "            env.process(request(env, mu, server, provider))\n",
    "        elif provider == 2:\n",
    "            total_requests_2 += 1\n",
    "            env.process(request(env, mu, server, provider))"
   ]
  },
  {
   "cell_type": "code",
   "execution_count": 57,
   "metadata": {},
   "outputs": [],
   "source": [
    "def request(env, mu, server, provider):\n",
    "    global total_time_in_queue_1, total_time_of_service_1, total_time_in_queue_2, total_time_of_service_2\n",
    "    \n",
    "    arrival_time = env.now\n",
    "    with server.request() as req:\n",
    "        yield req\n",
    "        wait_time = env.now - arrival_time\n",
    "        \n",
    "        if provider == 1:\n",
    "            total_time_in_queue_1 += wait_time\n",
    "        elif provider == 2:\n",
    "            total_time_in_queue_2 += wait_time\n",
    "        \n",
    "        # El servicio se modela con una distribución exponencial\n",
    "        yield env.timeout(random.expovariate(mu))\n",
    "        \n",
    "        if provider == 1:\n",
    "            total_time_of_service_1 += env.now - arrival_time\n",
    "        elif provider == 2:\n",
    "            total_time_of_service_2 += env.now - arrival_time"
   ]
  },
  {
   "cell_type": "code",
   "execution_count": 58,
   "metadata": {},
   "outputs": [],
   "source": [
    "env = simpy.Environment()\n",
    "server_1 = simpy.Resource(env, capacity=1)\n",
    "server_2 = simpy.Resource(env, capacity=SERVERS_2)  # Asumimos 10 servidores\n",
    "\n",
    "env.process(request_generator(env, MU_1, server_1, 1))  # El 1 al final indica Proveedor 1\n",
    "env.process(request_generator(env, MU_2, server_2, 2))  # El 2 al final indica Proveedor 2\n",
    "\n",
    "env.run(until=SIMULATION_TIME)"
   ]
  },
  {
   "cell_type": "code",
   "execution_count": 59,
   "metadata": {},
   "outputs": [
    {
     "name": "stdout",
     "output_type": "stream",
     "text": [
      "Solicitudes totales atendidas por el Proveedor 1: 143817\n",
      "Solicitudes totales atendidas por el Proveedor 2: 143861\n",
      "Tiempo total de servicio del Proveedor 1: 2414.35 segundos\n",
      "Tiempo total de servicio del Proveedor 2: 14.43 segundos\n",
      "Tiempo total desocupado para el Proveedor 1: 1185.65 segundos\n",
      "Tiempo total desocupado para el Proveedor 2: 3585.57 segundos\n",
      "Tiempo total en cola para el Proveedor 1: 975.21 segundos\n",
      "Tiempo total en cola para el Proveedor 2: 0.00 segundos\n",
      "Tiempo promedio en cola para el Proveedor 1: 0.01 segundos\n",
      "Tiempo promedio en cola para el Proveedor 2: 0.00 segundos\n",
      "Número promedio de solicitudes en cola por segundo para el Proveedor 1: 0.27\n",
      "Número promedio de solicitudes en cola por segundo para el Proveedor 2: 0.00\n"
     ]
    }
   ],
   "source": [
    "# Proveedor 1\n",
    "MU_1 = 100  # Tasa de servicio de 100 solicitudes por segundo\n",
    "\n",
    "# Proveedor 2\n",
    "MU_2 = 10    # Tasa de servicio de 10 solicitudes por segundo\n",
    "SERVERS_2 = 10  # Número de servidores\n",
    "\n",
    "# Al finalizar la simulación, calculamos y mostramos estadísticas\n",
    "idle_time_1 = SIMULATION_TIME - total_time_of_service_1\n",
    "idle_time_2 = SIMULATION_TIME - total_time_of_service_2\n",
    "\n",
    "# a. ¿Cuántas solicitudes atendió cada servidor?\n",
    "print(f\"Solicitudes totales atendidas por el Proveedor 1: {total_requests_1}\")\n",
    "print(f\"Solicitudes totales atendidas por el Proveedor 2: {total_requests_2}\")\n",
    "\n",
    "# b. ¿Cuánto tiempo estuvo cada servidor ocupado?\n",
    "print(f\"Tiempo total de servicio del Proveedor 1: {total_time_of_service_1:.2f} segundos\")\n",
    "print(f\"Tiempo total de servicio del Proveedor 2: {total_time_of_service_2:.2f} segundos\")\n",
    "\n",
    "# c. ¿Cuánto tiempo estuvo cada servidor desocupado (idle)?\n",
    "print(f\"Tiempo total desocupado para el Proveedor 1: {idle_time_1:.2f} segundos\")\n",
    "print(f\"Tiempo total desocupado para el Proveedor 2: {idle_time_2:.2f} segundos\")\n",
    "\n",
    "# d. ¿Cuánto tiempo en total estuvieron las solicitudes en cola?\n",
    "print(f\"Tiempo total en cola para el Proveedor 1: {total_time_in_queue_1:.2f} segundos\")\n",
    "print(f\"Tiempo total en cola para el Proveedor 2: {total_time_in_queue_2:.2f} segundos\")\n",
    "\n",
    "# e. En promedio, ¿cuánto tiempo estuvo cada solicitud en cola?\n",
    "print(f\"Tiempo promedio en cola para el Proveedor 1: {total_time_in_queue_1/total_requests_1:.2f} segundos\")\n",
    "print(f\"Tiempo promedio en cola para el Proveedor 2: {total_time_in_queue_2/total_requests_2:.2f} segundos\")\n",
    "\n",
    "# f. En promedio, ¿cuántas solicitudes estuvieron en cola cada segundo?\n",
    "print(f\"Número promedio de solicitudes en cola por segundo para el Proveedor 1: {total_time_in_queue_1/SIMULATION_TIME:.2f}\")\n",
    "print(f\"Número promedio de solicitudes en cola por segundo para el Proveedor 2: {total_time_in_queue_2/SIMULATION_TIME:.2f}\")\n"
   ]
  }
 ],
 "metadata": {
  "kernelspec": {
   "display_name": "Python 3",
   "language": "python",
   "name": "python3"
  },
  "language_info": {
   "codemirror_mode": {
    "name": "ipython",
    "version": 3
   },
   "file_extension": ".py",
   "mimetype": "text/x-python",
   "name": "python",
   "nbconvert_exporter": "python",
   "pygments_lexer": "ipython3",
   "version": "3.10.4"
  }
 },
 "nbformat": 4,
 "nbformat_minor": 2
}
